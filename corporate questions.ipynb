{
  "nbformat": 4,
  "nbformat_minor": 0,
  "metadata": {
    "colab": {
      "provenance": [],
      "authorship_tag": "ABX9TyNyvGgXY1g+RMyfulOl0Jer",
      "include_colab_link": true
    },
    "kernelspec": {
      "name": "python3",
      "display_name": "Python 3"
    },
    "language_info": {
      "name": "python"
    }
  },
  "cells": [
    {
      "cell_type": "markdown",
      "metadata": {
        "id": "view-in-github",
        "colab_type": "text"
      },
      "source": [
        "<a href=\"https://colab.research.google.com/github/kiran-dr/basic_python_programs/blob/main/corporate%20questions.ipynb\" target=\"_parent\"><img src=\"https://colab.research.google.com/assets/colab-badge.svg\" alt=\"Open In Colab\"/></a>"
      ]
    },
    {
      "cell_type": "code",
      "execution_count": 33,
      "metadata": {
        "colab": {
          "base_uri": "https://localhost:8080/"
        },
        "id": "nDhvdzN_ScOC",
        "outputId": "02f9104f-ceb4-4812-b395-23dbf8a900b6"
      },
      "outputs": [
        {
          "output_type": "stream",
          "name": "stdout",
          "text": [
            "Enter m value:6\n",
            "Enter n value:2\n",
            "Enter valid m,n values\n"
          ]
        }
      ],
      "source": [
        "# Python program to give sum of all cubes from m to n\n",
        "m=int(input(\"Enter m value:\"))\n",
        "n=int(input(\"Enter n value:\"))\n",
        "output=0\n",
        "if m>n :\n",
        "  print(\"Enter valid m,n values\")\n",
        "else:\n",
        "  for x in range(m,n+1):\n",
        "    output=output+x**3\n",
        "  print(f\"sum of cubes from {m} to {n} = {output}\")"
      ]
    },
    {
      "cell_type": "code",
      "source": [
        "# Python program to give product of all even numbers from m to n\n",
        "m=int(input(\"Enter m value:\"))\n",
        "n=int(input(\"Enter n value:\"))"
      ],
      "metadata": {
        "id": "OHkeL3esYQCv"
      },
      "execution_count": null,
      "outputs": []
    }
  ]
}